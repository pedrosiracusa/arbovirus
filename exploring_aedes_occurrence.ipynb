{
 "cells": [
  {
   "cell_type": "markdown",
   "metadata": {},
   "source": [
    "## Notebook 1: Exploring *Aedes aegypti* occurrence data\n",
    "####  Student: Pedro Correia de Siracusa\n",
    "####  Academic advisors: Artur Ziviani & Fábio Porto\n",
    "--------"
   ]
  },
  {
   "cell_type": "markdown",
   "metadata": {},
   "source": [
    "On this first notebook I'll perform some basic exploratory analysis on a publicly available scientific dataset on *Aedes aegypti* occurrence data, hosted by DRYAD Digital Repository (http://datadryad.org/resource/doi:10.5061/dryad.47v3c). This dataset was originally published by\n",
    ">Kraemer MUG, Sinka ME, Duda KA, Mylne A, Shearer FM, Brady OJ, Messina JP, Barker CM, Moore CG, Carvalho RG, Coelho GE, Van Bortel W, Hendrickx G, Schaffner F, Wint GRW, Elyazar IRF, Teng H, Hay SI (2015) The global compendium of Aedes aegypti and Ae. albopictus occurrence. Scientific Data 2(7): 150035. http://dx.doi.org/10.1038/sdata.2015.35"
   ]
  },
  {
   "cell_type": "markdown",
   "metadata": {},
   "source": [
    "Besides having a general overview of the available data, my goal with this exercise is to get more familiarized with some basic tools for performing data analysis with Python. Let's start by importing our main dataset into the environment. "
   ]
  },
  {
   "cell_type": "code",
   "execution_count": 1,
   "metadata": {
    "collapsed": false
   },
   "outputs": [],
   "source": [
    "import urllib\n",
    "import pandas as pd"
   ]
  },
  {
   "cell_type": "code",
   "execution_count": 2,
   "metadata": {
    "collapsed": false
   },
   "outputs": [],
   "source": [
    "aegypti_data_url='http://datadryad.org/bitstream/handle/10255/dryad.88853/aegypti.csv?sequence=1'\n",
    "\n",
    "try: \n",
    "    aegypti_dataset\n",
    "    \n",
    "except NameError:\n",
    "    aegypti_dataset = pd.read_csv(aegypti_data_url)"
   ]
  },
  {
   "cell_type": "markdown",
   "metadata": {},
   "source": [
    "Let's take a quick look at this dataset:"
   ]
  },
  {
   "cell_type": "code",
   "execution_count": 3,
   "metadata": {
    "collapsed": false
   },
   "outputs": [
    {
     "name": "stdout",
     "output_type": "stream",
     "text": [
      "          VECTOR  OCCURRENCE_ID  SOURCE_TYPE LOCATION_TYPE POLYGON_ADMIN  \\\n",
      "0  Aedes aegypti              1  unpublished       polygon             2   \n",
      "1  Aedes aegypti              2  unpublished       polygon             2   \n",
      "2  Aedes aegypti              3  unpublished       polygon             2   \n",
      "\n",
      "       Y      X  YEAR                   COUNTRY COUNTRY_ID  GAUL_AD0  STATUS  \n",
      "0  25.49 -80.99  1960  United States of America        USA       259     NaN  \n",
      "1  26.12 -81.33  1960  United States of America        USA       259     NaN  \n",
      "2  26.13 -97.55  1960  United States of America        USA       259     NaN  \n"
     ]
    }
   ],
   "source": [
    "print(aegypti_dataset[:3])"
   ]
  },
  {
   "cell_type": "markdown",
   "metadata": {},
   "source": [
    "Next I list the top 5 countries with most occurrence records.  "
   ]
  },
  {
   "cell_type": "code",
   "execution_count": 4,
   "metadata": {
    "collapsed": false
   },
   "outputs": [
    {
     "data": {
      "text/plain": [
       "COUNTRY\n",
       "Taiwan                      9501\n",
       "Brazil                      5057\n",
       "Indonesia                    606\n",
       "Thailand                     500\n",
       "United States of America     444\n",
       "dtype: int64"
      ]
     },
     "execution_count": 4,
     "metadata": {},
     "output_type": "execute_result"
    }
   ],
   "source": [
    "records_by_country = aegypti_dataset.groupby('COUNTRY').size()\n",
    "records_by_country.sort_values(ascending=False)[:5]"
   ]
  },
  {
   "cell_type": "markdown",
   "metadata": {},
   "source": [
    "As I'm mostly interested on the vector geographic range in Brazil, let's work with a subset."
   ]
  },
  {
   "cell_type": "code",
   "execution_count": 5,
   "metadata": {
    "collapsed": false
   },
   "outputs": [],
   "source": [
    "aegypti_dataset_br = aegypti_dataset[aegypti_dataset.COUNTRY=='Brazil']"
   ]
  }
 ],
 "metadata": {
  "kernelspec": {
   "display_name": "Python 3",
   "language": "python",
   "name": "python3"
  },
  "language_info": {
   "codemirror_mode": {
    "name": "ipython",
    "version": 3
   },
   "file_extension": ".py",
   "mimetype": "text/x-python",
   "name": "python",
   "nbconvert_exporter": "python",
   "pygments_lexer": "ipython3",
   "version": "3.5.1"
  }
 },
 "nbformat": 4,
 "nbformat_minor": 0
}
